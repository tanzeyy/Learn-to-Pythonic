{
 "cells": [
  {
   "cell_type": "markdown",
   "metadata": {},
   "source": [
    "# 协程：async/await 语法\n",
    "\n",
    "[点击查看 PEP 492](https://www.python.org/dev/peps/pep-0492/)"
   ]
  },
  {
   "cell_type": "markdown",
   "metadata": {},
   "source": [
    "### async 表达式"
   ]
  },
  {
   "cell_type": "markdown",
   "metadata": {},
   "source": [
    "使用如下语法定义原生协程：\n",
    "\n",
    "```python\n",
    "async def read_data(db):\n",
    "    pass\n",
    "```\n",
    "\n",
    "- `async def`的函数必定是协程，即使里面不含`await`语句；\n",
    "- 协程不再抛出`StopIteration`异常，因为抛出的`StopIteration`会被包装成一个`RuntimeError`异常；\n",
    "- 如果一个协程从未`await`等待就被垃圾收集器销毁了，会引发一个`RuntimeWarning`异常。"
   ]
  },
  {
   "cell_type": "markdown",
   "metadata": {},
   "source": [
    "### types.coroutine()"
   ]
  },
  {
   "cell_type": "markdown",
   "metadata": {},
   "source": [
    "使用此装饰器可以将现有的“使用生成器实现的协程”转化为与“原生协程”兼容的形式。\n",
    "\n",
    "```python\n",
    "@types.coroutine\n",
    "def process_data(db):\n",
    "    data = yield from read_data(db)\n",
    "    ...\n",
    "```"
   ]
  },
  {
   "cell_type": "markdown",
   "metadata": {},
   "source": [
    "### await 表达式"
   ]
  },
  {
   "cell_type": "markdown",
   "metadata": {},
   "source": [
    "使用`await`表达式获取协程执行的结果：\n",
    "\n",
    "```python\n",
    "async def read_data(db):\n",
    "    data = await db.fetch('SELECT ...')\n",
    "    ...\n",
    "```\n",
    "\n",
    "`await`和`yield from`类似，它挂起`read_data`的执行，直到`db.fetch`执行完毕并返回结果。\n",
    "\n",
    "`await`仅接受 awaitable 对象（否则TypeError，是下面其中一种：\n",
    "- 一个原生协程对象；\n",
    "- 用装饰`types.coroutine`装饰的一个“生成器实现的协程”对象；\n",
    "- 一个有`__await__`方法（返回一个迭代器）的对象\n",
    "\n"
   ]
  },
  {
   "cell_type": "markdown",
   "metadata": {},
   "source": [
    "\n",
    "await语句大多数情况下不需要被圆括号包围。比如：\n",
    "```python\n",
    "-await foo() 与 -(await foo()) 等价。\n",
    "```\n",
    "\n",
    "\n",
    "但是：\n",
    "```python\n",
    "await await coro() 应写成 await (await coro())\n",
    "await -coro() 应写成 await (-coro())\n",
    "```"
   ]
  },
  {
   "cell_type": "markdown",
   "metadata": {},
   "source": [
    "### 异步上下文管理器和 `async with`"
   ]
  },
  {
   "cell_type": "markdown",
   "metadata": {},
   "source": [
    "异步上下文管理器（asynchronous context manager），可以在它的enter和exit方法里挂起、调用异步代码。\n",
    "因此有两个魔术方法：`__aenter__`和`__aexit__`，他们返回一个awaitable 对象\n",
    "\n",
    "```python\n",
    "class AsyncContextManager:\n",
    "    async def __aenter__(self):\n",
    "        await log('entering context')\n",
    "    \n",
    "    async def __aexit__(self, exc_type, exc, tb):\n",
    "        await log('exiting contenxt')\n",
    "```\n",
    "\n",
    "并且有一套新的语法：\n",
    "```python\n",
    "async with EXPR as VAR:\n",
    "    BLOCK\n",
    "```\n",
    "\n",
    "等同于：\n",
    "```python\n",
    "mgr = (EXPR)\n",
    "aexit = type(mgr).__aexit__\n",
    "aenter = type(mgr).__aenter__(mgr)\n",
    "exc = True\n",
    "\n",
    "VAR = await aenter\n",
    "try:\n",
    "    BLOCK\n",
    "except:\n",
    "    if not await aexit(mgr, *sys.exc_info()):\n",
    "        raise\n",
    "else:\n",
    "    await aexit(mgr, None, None, None)\n",
    "```"
   ]
  },
  {
   "cell_type": "markdown",
   "metadata": {},
   "source": [
    "示例：\n",
    "\n",
    "```python\n",
    "async def commit(session, data):\n",
    "    ...\n",
    "    async with session.transaction():\n",
    "        ...\n",
    "        await session.update(data)\n",
    "        ...\n",
    "```\n",
    "\n",
    "再比如：\n",
    "```python\n",
    "async with lock:\n",
    "    ...\n",
    "```\n",
    "\n",
    "而不是：\n",
    "```python\n",
    "with (yield from lock):\n",
    "    ...\n",
    "```\n"
   ]
  },
  {
   "cell_type": "markdown",
   "metadata": {},
   "source": [
    "### 异步迭代器和 `async for`"
   ]
  },
  {
   "cell_type": "markdown",
   "metadata": {},
   "source": [
    "要支持异步迭代，需要：\n",
    "- 对象必须实现一个`__aiter__`方法，返回一个异步迭代器对象买这个异步迭代器对象在每次迭代时会返回一个awaitable；\n",
    "- 一个异步迭代器必须实现一个`__anext__`方法，在每次迭代时会返回一个awaitable；\n",
    "- 要停止迭代，`__anext__`必须抛出一个`StopAsyncIteration`异常。"
   ]
  },
  {
   "cell_type": "markdown",
   "metadata": {},
   "source": [
    "示例：\n",
    "\n",
    "```python\n",
    "class AsyncIterable:\n",
    "    async def __aiter__(self):\n",
    "        return self\n",
    "    \n",
    "    async def __anext__(self):\n",
    "        data = await self.fetch_data()\n",
    "        if data:\n",
    "            return data\n",
    "        else:\n",
    "            raise StopAsyncIteration\n",
    "    \n",
    "    async def fetch_data(self):\n",
    "        ...\n",
    "```\n",
    "\n",
    "新语法：\n",
    "```python\n",
    "async for TARGET in ITER:\n",
    "    BLOCK\n",
    "else:\n",
    "    BLOCK2\n",
    "```\n",
    "语义上等于：\n",
    "```python\n",
    "iter = (ITER)\n",
    "iter = await type(iter).__aiter__(iter)\n",
    "running = True\n",
    "while running:\n",
    "    try:\n",
    "        TARGET = await type(iter).__anext__(iter)\n",
    "    except StopAsyncIteration:\n",
    "        running = False\n",
    "    else:\n",
    "        BLOCK\n",
    "else:\n",
    "    BLOCK2\n",
    "```"
   ]
  }
 ],
 "metadata": {
  "kernelspec": {
   "display_name": "Python 3",
   "language": "python",
   "name": "python3"
  },
  "language_info": {
   "codemirror_mode": {
    "name": "ipython",
    "version": 3
   },
   "file_extension": ".py",
   "mimetype": "text/x-python",
   "name": "python",
   "nbconvert_exporter": "python",
   "pygments_lexer": "ipython3",
   "version": "3.7.3"
  }
 },
 "nbformat": 4,
 "nbformat_minor": 2
}
