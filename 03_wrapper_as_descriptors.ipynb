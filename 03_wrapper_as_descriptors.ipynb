{
 "cells": [
  {
   "cell_type": "markdown",
   "metadata": {},
   "source": [
    "### Simple explanation of descriptors (描述符)"
   ]
  },
  {
   "cell_type": "markdown",
   "metadata": {},
   "source": [
    "简单来说，描述符就是绑定有特定行为的对象属性，其属性访问（attribute access）会被描述符协议中的方法重写。这些方法是`__get__()`，`__set__()`，`__delete__()`。\n",
    "- `obj.attribute` --> `attribute.__get__(obj, type(obj))`\n",
    "- `obj.attribute = value` --> `attribute.__set__(obj, value)`\n",
    "- `del obj.attribute` --> `attribute.__delete__(obj)`"
   ]
  },
  {
   "cell_type": "markdown",
   "metadata": {},
   "source": [
    "当使用`.`来访问函数（方法）的时候，其实是调用了`__get__()`方法来将函数绑定给类的实例，使其成为这个对象的bound method。"
   ]
  },
  {
   "cell_type": "code",
   "execution_count": 4,
   "metadata": {},
   "outputs": [
    {
     "data": {
      "text/plain": [
       "True"
      ]
     },
     "execution_count": 4,
     "metadata": {},
     "output_type": "execute_result"
    }
   ],
   "source": [
    "def f(obj): pass\n",
    "\n",
    "hasattr(f, '__get__')"
   ]
  },
  {
   "cell_type": "code",
   "execution_count": 5,
   "metadata": {},
   "outputs": [
    {
     "data": {
      "text/plain": [
       "<function __main__.f(obj)>"
      ]
     },
     "execution_count": 5,
     "metadata": {},
     "output_type": "execute_result"
    }
   ],
   "source": [
    "f"
   ]
  },
  {
   "cell_type": "code",
   "execution_count": 7,
   "metadata": {},
   "outputs": [],
   "source": [
    "obj = object()"
   ]
  },
  {
   "cell_type": "code",
   "execution_count": 8,
   "metadata": {},
   "outputs": [
    {
     "data": {
      "text/plain": [
       "<bound method f of <object object at 0x7f4150917190>>"
      ]
     },
     "execution_count": 8,
     "metadata": {},
     "output_type": "execute_result"
    }
   ],
   "source": [
    "f.__get__(obj, type(obj))"
   ]
  },
  {
   "cell_type": "markdown",
   "metadata": {},
   "source": [
    "所以，当调用一个类的方法时，并不是调用了原函数对象的`__call__()`，而是调用了由于访问此函数而产生的临时绑定对象（bound object）的`__call__()`方法。"
   ]
  },
  {
   "cell_type": "code",
   "execution_count": 9,
   "metadata": {},
   "outputs": [],
   "source": [
    "class Object(object):\n",
    "    def f(self): pass"
   ]
  },
  {
   "cell_type": "code",
   "execution_count": 10,
   "metadata": {},
   "outputs": [
    {
     "data": {
      "text/plain": [
       "<bound method Object.f of <__main__.Object object at 0x7f414c1f1978>>"
      ]
     },
     "execution_count": 10,
     "metadata": {},
     "output_type": "execute_result"
    }
   ],
   "source": [
    "obj = Object()\n",
    "obj.f"
   ]
  },
  {
   "cell_type": "markdown",
   "metadata": {},
   "source": [
    "回顾之前的错误："
   ]
  },
  {
   "cell_type": "code",
   "execution_count": 14,
   "metadata": {},
   "outputs": [
    {
     "ename": "TypeError",
     "evalue": "'classmethod' object is not callable",
     "output_type": "error",
     "traceback": [
      "\u001b[0;31m---------------------------------------------------------------------------\u001b[0m",
      "\u001b[0;31mTypeError\u001b[0m                                 Traceback (most recent call last)",
      "\u001b[0;32m<ipython-input-14-8aee3dcedc7b>\u001b[0m in \u001b[0;36m<module>\u001b[0;34m\u001b[0m\n\u001b[1;32m     14\u001b[0m         \u001b[0;32mpass\u001b[0m\u001b[0;34m\u001b[0m\u001b[0;34m\u001b[0m\u001b[0m\n\u001b[1;32m     15\u001b[0m \u001b[0;34m\u001b[0m\u001b[0m\n\u001b[0;32m---> 16\u001b[0;31m \u001b[0mClass\u001b[0m\u001b[0;34m.\u001b[0m\u001b[0mcmethod\u001b[0m\u001b[0;34m(\u001b[0m\u001b[0;34m)\u001b[0m\u001b[0;34m\u001b[0m\u001b[0;34m\u001b[0m\u001b[0m\n\u001b[0m",
      "\u001b[0;32m<ipython-input-14-8aee3dcedc7b>\u001b[0m in \u001b[0;36m__call__\u001b[0;34m(self, *args, **kwargs)\u001b[0m\n\u001b[1;32m      6\u001b[0m         \u001b[0mfunctools\u001b[0m\u001b[0;34m.\u001b[0m\u001b[0mupdate_wrapper\u001b[0m\u001b[0;34m(\u001b[0m\u001b[0mself\u001b[0m\u001b[0;34m,\u001b[0m \u001b[0mwrapped\u001b[0m\u001b[0;34m)\u001b[0m\u001b[0;34m\u001b[0m\u001b[0;34m\u001b[0m\u001b[0m\n\u001b[1;32m      7\u001b[0m     \u001b[0;32mdef\u001b[0m \u001b[0m__call__\u001b[0m\u001b[0;34m(\u001b[0m\u001b[0mself\u001b[0m\u001b[0;34m,\u001b[0m \u001b[0;34m*\u001b[0m\u001b[0margs\u001b[0m\u001b[0;34m,\u001b[0m \u001b[0;34m**\u001b[0m\u001b[0mkwargs\u001b[0m\u001b[0;34m)\u001b[0m\u001b[0;34m:\u001b[0m\u001b[0;34m\u001b[0m\u001b[0;34m\u001b[0m\u001b[0m\n\u001b[0;32m----> 8\u001b[0;31m         \u001b[0;32mreturn\u001b[0m \u001b[0mself\u001b[0m\u001b[0;34m.\u001b[0m\u001b[0mwrapped\u001b[0m\u001b[0;34m(\u001b[0m\u001b[0;34m*\u001b[0m\u001b[0margs\u001b[0m\u001b[0;34m,\u001b[0m \u001b[0;34m**\u001b[0m\u001b[0mkwargs\u001b[0m\u001b[0;34m)\u001b[0m\u001b[0;34m\u001b[0m\u001b[0;34m\u001b[0m\u001b[0m\n\u001b[0m\u001b[1;32m      9\u001b[0m \u001b[0;34m\u001b[0m\u001b[0m\n\u001b[1;32m     10\u001b[0m \u001b[0;32mclass\u001b[0m \u001b[0mClass\u001b[0m\u001b[0;34m(\u001b[0m\u001b[0mobject\u001b[0m\u001b[0;34m)\u001b[0m\u001b[0;34m:\u001b[0m\u001b[0;34m\u001b[0m\u001b[0;34m\u001b[0m\u001b[0m\n",
      "\u001b[0;31mTypeError\u001b[0m: 'classmethod' object is not callable"
     ]
    }
   ],
   "source": [
    "import functools \n",
    "\n",
    "class function_wrapper(object):\n",
    "    def __init__(self, wrapped):\n",
    "        self.wrapped = wrapped\n",
    "        functools.update_wrapper(self, wrapped)\n",
    "    def __call__(self, *args, **kwargs):\n",
    "        return self.wrapped(*args, **kwargs)\n",
    "\n",
    "class Class(object):\n",
    "    @function_wrapper\n",
    "    @classmethod\n",
    "    def cmethod(cls):\n",
    "        pass \n",
    "\n",
    "Class.cmethod() "
   ]
  },
  {
   "cell_type": "markdown",
   "metadata": {},
   "source": [
    "这是因为若要`@classmethod`装饰器正确工作，必须正确地应用描述符协议（descriptor protocol）。`__call__()`方法是通过`__get__()`来返回的，而`@classmethod`自身并没有`__call__()`方法。更明确地说，因为简单版本的装饰器并不遵守描述符协议来产生一个能被正确调用的绑定函数，而是简单地调用被包装的对象，当此对象没有`__call__()`方法时就会失败。\n",
    "\n",
    "当把其应用到普通的实例方法时，可以正常工作，因为普通的函数有`__call__()`方法，虽然绑定协议被放在一旁，但当调用原来的未绑定的函数对象时，装饰器显式地传递了`self`参数。"
   ]
  },
  {
   "cell_type": "markdown",
   "metadata": {},
   "source": [
    "### Wrappers as descriptors"
   ]
  },
  {
   "cell_type": "markdown",
   "metadata": {},
   "source": [
    "解决方案：同时把装饰器实现为描述符"
   ]
  },
  {
   "cell_type": "markdown",
   "metadata": {},
   "source": [
    "查看`update_wrapper`在Python 3.4+中的实现：\n",
    "\n",
    "```python\n",
    "WRAPPER_ASSIGNMENTS = ('__module__', '__name__', '__qualname__', '__doc__',\n",
    "                       '__annotations__')\n",
    "WRAPPER_UPDATES = ('__dict__',)\n",
    "def update_wrapper(wrapper,\n",
    "                   wrapped,\n",
    "                   assigned = WRAPPER_ASSIGNMENTS,\n",
    "                   updated = WRAPPER_UPDATES):\n",
    "    \"\"\"Update a wrapper function to look like the wrapped function\n",
    "\n",
    "       wrapper is the function to be updated\n",
    "       wrapped is the original function\n",
    "       assigned is a tuple naming the attributes assigned directly\n",
    "       from the wrapped function to the wrapper function (defaults to\n",
    "       functools.WRAPPER_ASSIGNMENTS)\n",
    "       updated is a tuple naming the attributes of the wrapper that\n",
    "       are updated with the corresponding attribute from the wrapped\n",
    "       function (defaults to functools.WRAPPER_UPDATES)\n",
    "    \"\"\"\n",
    "    for attr in assigned:\n",
    "        try:\n",
    "            value = getattr(wrapped, attr)\n",
    "        except AttributeError:\n",
    "            pass\n",
    "        else:\n",
    "            setattr(wrapper, attr, value)\n",
    "    for attr in updated:\n",
    "        getattr(wrapper, attr).update(getattr(wrapped, attr, {}))\n",
    "    # Issue #17482: set __wrapped__ last so we don't inadvertently copy it\n",
    "    # from the wrapped function when updating __dict__\n",
    "    wrapper.__wrapped__ = wrapped\n",
    "    # Return the wrapper so this can be used as a decorator via partial()\n",
    "    return wrapper\n",
    "```\n",
    "\n",
    "其分别复制了被包装函数的各类属性以及`__dict__`的内容，最后将函数绑定给`__wrapped__`"
   ]
  },
  {
   "cell_type": "code",
   "execution_count": 74,
   "metadata": {},
   "outputs": [],
   "source": [
    "import functools \n",
    "\n",
    "class bound_function_wrapper(object): \n",
    "    def __init__(self, wrapped):\n",
    "        self.wrapped = wrapped \n",
    "        functools.update_wrapper(self, wrapped)\n",
    "    def __call__(self, *args, **kwargs):\n",
    "        return self.wrapped(*args, **kwargs) \n",
    "\n",
    "class function_wrapper(object): \n",
    "    def __init__(self, wrapped):\n",
    "        self.wrapped = wrapped \n",
    "        functools.update_wrapper(self, wrapped) # Caution!\n",
    "    def __get__(self, instance, owner):\n",
    "        wrapped = self.wrapped.__get__(instance, owner)\n",
    "        return bound_function_wrapper(wrapped) \n",
    "    def __call__(self, *args, **kwargs):\n",
    "        return self.wrapped(*args, **kwargs)"
   ]
  },
  {
   "cell_type": "code",
   "execution_count": 75,
   "metadata": {},
   "outputs": [
    {
     "data": {
      "text/plain": [
       "{'wrapped': <function __main__.func()>,\n",
       " '__module__': '__main__',\n",
       " '__name__': 'func',\n",
       " '__qualname__': 'func',\n",
       " '__doc__': None,\n",
       " '__annotations__': {},\n",
       " '__wrapped__': <function __main__.func()>}"
      ]
     },
     "execution_count": 75,
     "metadata": {},
     "output_type": "execute_result"
    }
   ],
   "source": [
    "@function_wrapper\n",
    "def func(): pass\n",
    "\n",
    "f = func\n",
    "getattr(f, '__dict__')"
   ]
  },
  {
   "cell_type": "code",
   "execution_count": 77,
   "metadata": {},
   "outputs": [
    {
     "data": {
      "text/plain": [
       "\"getattr(object, name[, default]) -> value\\n\\nGet a named attribute from an object; getattr(x, 'y') is equivalent to x.y.\\nWhen a default argument is given, it is returned when the attribute doesn't\\nexist; without it, an exception is raised in that case.\""
      ]
     },
     "execution_count": 77,
     "metadata": {},
     "output_type": "execute_result"
    }
   ],
   "source": [
    "# Check the getattr function\n",
    "getattr.__doc__"
   ]
  },
  {
   "cell_type": "markdown",
   "metadata": {},
   "source": [
    "每次将函数绑定给某个类时都需要创建一个bound wrapper，性能不够好，使用transparent object proxy来解决这个问题。\n",
    "\n",
    "Example(实际的实现要复杂的多):"
   ]
  },
  {
   "cell_type": "code",
   "execution_count": 79,
   "metadata": {},
   "outputs": [],
   "source": [
    "class object_proxy(object):\n",
    "    def __init__(self, wrapped):\n",
    "        self.wrapped = wrapped\n",
    "        try:\n",
    "            self.__name__ = wrapped.__name__\n",
    "        except AttributeError:\n",
    "            pass\n",
    "        \n",
    "    @property\n",
    "    def __class__(self):\n",
    "        return self.wrapped.__class__\n",
    "    \n",
    "    def __getattr__(self, name):\n",
    "        return getattr(self.wrapped, name)"
   ]
  },
  {
   "cell_type": "code",
   "execution_count": 83,
   "metadata": {},
   "outputs": [],
   "source": [
    "class bound_function_wrapper(object_proxy):\n",
    "    def __init__(self, wrapped):\n",
    "        super(bound_function_wrapper, self).__init__(wrapped)\n",
    "    def __call__(self, *args, **kwargs):\n",
    "        return self.wrapped(*args, **kwargs)  \n",
    "\n",
    "class function_wrapper(object_proxy):\n",
    "    def __init__(self, wrapped):\n",
    "        super(function_wrapper, self).__init__(wrapped)\n",
    "    def __get__(self, instance, owner):\n",
    "        wrapped = self.wrapped.__get__(instance, owner)\n",
    "        return bound_function_wrapper(wrapped) \n",
    "    def __call__(self, *args, **kwargs):\n",
    "        return self.wrapped(*args, **kwargs) "
   ]
  },
  {
   "cell_type": "markdown",
   "metadata": {},
   "source": [
    "这样方式的实现同时能让`inspect.getargspec()`和`inspect.getsource()`正常工作"
   ]
  }
 ],
 "metadata": {
  "kernelspec": {
   "display_name": "Python 3",
   "language": "python",
   "name": "python3"
  },
  "language_info": {
   "codemirror_mode": {
    "name": "ipython",
    "version": 3
   },
   "file_extension": ".py",
   "mimetype": "text/x-python",
   "name": "python",
   "nbconvert_exporter": "python",
   "pygments_lexer": "ipython3",
   "version": "3.7.2"
  }
 },
 "nbformat": 4,
 "nbformat_minor": 2
}
