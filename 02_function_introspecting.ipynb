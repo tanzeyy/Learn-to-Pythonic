{
 "cells": [
  {
   "cell_type": "markdown",
   "metadata": {},
   "source": [
    "### Introspecting a function"
   ]
  },
  {
   "cell_type": "code",
   "execution_count": 1,
   "metadata": {},
   "outputs": [],
   "source": [
    "def function_wrapper(wrapped):\n",
    "    def _wrapper(*args, **kwargs):\n",
    "        return wrapped(*args, **kwargs)\n",
    "    return _wrapper\n",
    "\n",
    "@function_wrapper\n",
    "def function():\n",
    "    pass"
   ]
  },
  {
   "cell_type": "code",
   "execution_count": 2,
   "metadata": {},
   "outputs": [],
   "source": [
    "function.__name__"
   ]
  },
  {
   "cell_type": "code",
   "execution_count": 3,
   "metadata": {},
   "outputs": [],
   "source": [
    "class function_wrapper(object):\n",
    "    def __init__(self, wrapped):\n",
    "        self.wrapped = wrapped\n",
    "    def __call__(self, *args, **kwargs):\n",
    "        return self.wrapped(*args, **kwargs) \n",
    "\n",
    "@function_wrapper\n",
    "def function():\n",
    "    pass"
   ]
  },
  {
   "cell_type": "code",
   "execution_count": 4,
   "metadata": {},
   "outputs": [
    {
     "ename": "AttributeError",
     "evalue": "'function_wrapper' object has no attribute '__name__'",
     "output_type": "error",
     "traceback": [
      "\u001b[0;31m---------------------------------------------------------------------------\u001b[0m",
      "\u001b[0;31mAttributeError\u001b[0m                            Traceback (most recent call last)",
      "\u001b[0;32m<ipython-input-4-55519ed13a1c>\u001b[0m in \u001b[0;36m<module>\u001b[0;34m\u001b[0m\n\u001b[0;32m----> 1\u001b[0;31m \u001b[0mfunction\u001b[0m\u001b[0;34m.\u001b[0m\u001b[0m__name__\u001b[0m\u001b[0;34m\u001b[0m\u001b[0;34m\u001b[0m\u001b[0m\n\u001b[0m",
      "\u001b[0;31mAttributeError\u001b[0m: 'function_wrapper' object has no attribute '__name__'"
     ]
    }
   ],
   "source": [
    "function.__name__"
   ]
  },
  {
   "cell_type": "markdown",
   "metadata": {},
   "source": [
    "Copy the attributes of interest from the wrapped function to the nested wrapper function."
   ]
  },
  {
   "cell_type": "code",
   "execution_count": 5,
   "metadata": {},
   "outputs": [],
   "source": [
    "def function_wrapper(wrapped):\n",
    "    def _wrapper(*args, **kwargs):\n",
    "        return wrapped(*args, **kwargs)\n",
    "    _wrapper.__name__ = wrapped.__name__\n",
    "    _wrapper.__doc__ = wrapped.__doc__\n",
    "    return _wrapper \n",
    "\n",
    "@function_wrapper\n",
    "def function():\n",
    "    pass "
   ]
  },
  {
   "cell_type": "code",
   "execution_count": 6,
   "metadata": {},
   "outputs": [
    {
     "data": {
      "text/plain": [
       "'function'"
      ]
     },
     "execution_count": 6,
     "metadata": {},
     "output_type": "execute_result"
    }
   ],
   "source": [
    "function.__name__"
   ]
  },
  {
   "cell_type": "markdown",
   "metadata": {},
   "source": [
    "In order to copy the `__module__` attribute and the `__qualname__` and `__annotations__` in Python 3, using `functools.wraps()` in the Python standard library."
   ]
  },
  {
   "cell_type": "code",
   "execution_count": 7,
   "metadata": {},
   "outputs": [],
   "source": [
    "import functools \n",
    "\n",
    "def function_wrapper(wrapped):\n",
    "    @functools.wraps(wrapped)\n",
    "    def _wrapper(*args, **kwargs):\n",
    "        return wrapped(*args, **kwargs)\n",
    "    return _wrapper \n",
    "\n",
    "@function_wrapper\n",
    "def function():\n",
    "    pass "
   ]
  },
  {
   "cell_type": "code",
   "execution_count": 8,
   "metadata": {},
   "outputs": [
    {
     "data": {
      "text/plain": [
       "'function'"
      ]
     },
     "execution_count": 8,
     "metadata": {},
     "output_type": "execute_result"
    }
   ],
   "source": [
    "function.__name__"
   ]
  },
  {
   "cell_type": "markdown",
   "metadata": {},
   "source": [
    "If using a class to implement the wrapper, use `functools.update_wrapper()`."
   ]
  },
  {
   "cell_type": "code",
   "execution_count": 9,
   "metadata": {},
   "outputs": [],
   "source": [
    "import functools\n",
    "\n",
    "class function_wrapper(object):\n",
    "    def __init__(self, wrapped):\n",
    "        self.wrapped = wrapped\n",
    "        functools.update_wrapper(self, wrapped)\n",
    "    def __call__(self, *args, **kwargs):\n",
    "        return self.wrapped(*args, **kwargs)"
   ]
  },
  {
   "cell_type": "markdown",
   "metadata": {},
   "source": [
    "当需要参数说明（argument specification）的时候，函数或者类来实现的装饰器都不能满足功能。"
   ]
  },
  {
   "cell_type": "code",
   "execution_count": 10,
   "metadata": {},
   "outputs": [
    {
     "data": {
      "text/plain": [
       "FullArgSpec(args=['self'], varargs='args', varkw='kwargs', defaults=None, kwonlyargs=[], kwonlydefaults=None, annotations={})"
      ]
     },
     "execution_count": 10,
     "metadata": {},
     "output_type": "execute_result"
    }
   ],
   "source": [
    "import inspect\n",
    "\n",
    "@function_wrapper\n",
    "def function():\n",
    "    pass \n",
    "\n",
    "inspect.getfullargspec(function)"
   ]
  },
  {
   "cell_type": "markdown",
   "metadata": {},
   "source": [
    "What's worse, 当使用基于类的装饰器时，会产生被装饰的函数并不是一个函数的异常，而且使用`inspect.getsource()`的时候也会失败。"
   ]
  },
  {
   "cell_type": "markdown",
   "metadata": {},
   "source": [
    "综上，传统上的装饰器实现并不能满足保留如下功能：\n",
    "- 保留函数的`__name__`和`__doc__`\n",
    "- 保留参数说明\n",
    "- 保留得到函数源代码的能力\n",
    "- 应用在其他装饰器之上的实现为描述符（descriptor）的装饰器"
   ]
  },
  {
   "cell_type": "markdown",
   "metadata": {},
   "source": [
    "### Wrapping class methods"
   ]
  },
  {
   "cell_type": "code",
   "execution_count": 11,
   "metadata": {},
   "outputs": [],
   "source": [
    "class Class(object): \n",
    "\n",
    "    @function_wrapper\n",
    "    def method(self):\n",
    "        pass \n",
    "\n",
    "    @classmethod\n",
    "    def cmethod(cls):\n",
    "        pass \n",
    "\n",
    "    @staticmethod\n",
    "    def smethod():\n",
    "        pass"
   ]
  },
  {
   "cell_type": "markdown",
   "metadata": {},
   "source": [
    "通常来说一个装饰器能用来包装类中的方法，然而当使用`functools.wraps()`或者`functools.update_wrapper()`来装饰`@classmethod`或者`@staticmethod`时，会抛出异常，因为这些装饰函数并没有能够被复制的某些属性。"
   ]
  },
  {
   "cell_type": "code",
   "execution_count": 16,
   "metadata": {},
   "outputs": [],
   "source": [
    "class Class(object):\n",
    "    @function_wrapper\n",
    "    @classmethod\n",
    "    def cmethod(cls):\n",
    "        pass"
   ]
  },
  {
   "cell_type": "markdown",
   "metadata": {},
   "source": [
    "上述代码在Python 2中会报错，而在Python 3中则没有，因为Python 3中的实现将这些丢失的属性忽略了。"
   ]
  },
  {
   "cell_type": "code",
   "execution_count": 17,
   "metadata": {},
   "outputs": [
    {
     "ename": "TypeError",
     "evalue": "'classmethod' object is not callable",
     "output_type": "error",
     "traceback": [
      "\u001b[0;31m---------------------------------------------------------------------------\u001b[0m",
      "\u001b[0;31mTypeError\u001b[0m                                 Traceback (most recent call last)",
      "\u001b[0;32m<ipython-input-17-2ce366e9f093>\u001b[0m in \u001b[0;36m<module>\u001b[0;34m\u001b[0m\n\u001b[0;32m----> 1\u001b[0;31m \u001b[0mClass\u001b[0m\u001b[0;34m.\u001b[0m\u001b[0mcmethod\u001b[0m\u001b[0;34m(\u001b[0m\u001b[0;34m)\u001b[0m\u001b[0;34m\u001b[0m\u001b[0;34m\u001b[0m\u001b[0m\n\u001b[0m",
      "\u001b[0;32m<ipython-input-9-4baf4bf56ba2>\u001b[0m in \u001b[0;36m__call__\u001b[0;34m(self, *args, **kwargs)\u001b[0m\n\u001b[1;32m      6\u001b[0m         \u001b[0mfunctools\u001b[0m\u001b[0;34m.\u001b[0m\u001b[0mupdate_wrapper\u001b[0m\u001b[0;34m(\u001b[0m\u001b[0mself\u001b[0m\u001b[0;34m,\u001b[0m \u001b[0mwrapped\u001b[0m\u001b[0;34m)\u001b[0m\u001b[0;34m\u001b[0m\u001b[0;34m\u001b[0m\u001b[0m\n\u001b[1;32m      7\u001b[0m     \u001b[0;32mdef\u001b[0m \u001b[0m__call__\u001b[0m\u001b[0;34m(\u001b[0m\u001b[0mself\u001b[0m\u001b[0;34m,\u001b[0m \u001b[0;34m*\u001b[0m\u001b[0margs\u001b[0m\u001b[0;34m,\u001b[0m \u001b[0;34m**\u001b[0m\u001b[0mkwargs\u001b[0m\u001b[0;34m)\u001b[0m\u001b[0;34m:\u001b[0m\u001b[0;34m\u001b[0m\u001b[0;34m\u001b[0m\u001b[0m\n\u001b[0;32m----> 8\u001b[0;31m         \u001b[0;32mreturn\u001b[0m \u001b[0mself\u001b[0m\u001b[0;34m.\u001b[0m\u001b[0mwrapped\u001b[0m\u001b[0;34m(\u001b[0m\u001b[0;34m*\u001b[0m\u001b[0margs\u001b[0m\u001b[0;34m,\u001b[0m \u001b[0;34m**\u001b[0m\u001b[0mkwargs\u001b[0m\u001b[0;34m)\u001b[0m\u001b[0;34m\u001b[0m\u001b[0;34m\u001b[0m\u001b[0m\n\u001b[0m",
      "\u001b[0;31mTypeError\u001b[0m: 'classmethod' object is not callable"
     ]
    }
   ],
   "source": [
    "Class.cmethod()"
   ]
  },
  {
   "cell_type": "markdown",
   "metadata": {},
   "source": [
    "然而，即使我们使用Python 3，依然会产生一些问题，因为这两种装饰函数都基于如下假设：被装饰的函数是被直接调用的。实际上并非如此，我们可以将被装饰的函数可以被称作所谓的描述符，这意味着，若要返回一个能被调用的对象，首先此描述符得正确地绑定给此实例。"
   ]
  }
 ],
 "metadata": {
  "kernelspec": {
   "display_name": "Python 3",
   "language": "python",
   "name": "python3"
  },
  "language_info": {
   "codemirror_mode": {
    "name": "ipython",
    "version": 3
   },
   "file_extension": ".py",
   "mimetype": "text/x-python",
   "name": "python",
   "nbconvert_exporter": "python",
   "pygments_lexer": "ipython3",
   "version": "3.7.2"
  }
 },
 "nbformat": 4,
 "nbformat_minor": 2
}
