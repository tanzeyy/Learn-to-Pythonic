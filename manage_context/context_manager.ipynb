{
 "cells": [
  {
   "cell_type": "markdown",
   "metadata": {},
   "source": [
    "# 上下文管理器"
   ]
  },
  {
   "cell_type": "markdown",
   "metadata": {},
   "source": [
    "with 语句的目的是简化 try/finally 模式，其中 finally 语句用于执行“收拾”的操作：释放资源，还原现场等。上下文管理器协议包含`__enter__`和`__exit__`两个方法，with 语句开始和运行结束时，会分别在上下文管理器对象上调用这两个方法。\n",
    "\n",
    "以文件对象为例："
   ]
  },
  {
   "cell_type": "code",
   "execution_count": 1,
   "metadata": {},
   "outputs": [
    {
     "name": "stdout",
     "output_type": "stream",
     "text": [
      "<class '_io.TextIOWrapper'>\n"
     ]
    }
   ],
   "source": [
    "with open('mirror.py') as fp:\n",
    "    print(type(fp))\n",
    "    src = fp.read(60)"
   ]
  },
  {
   "cell_type": "code",
   "execution_count": 2,
   "metadata": {},
   "outputs": [
    {
     "data": {
      "text/plain": [
       "60"
      ]
     },
     "execution_count": 2,
     "metadata": {},
     "output_type": "execute_result"
    }
   ],
   "source": [
    "len(src)"
   ]
  },
  {
   "cell_type": "markdown",
   "metadata": {},
   "source": [
    "with 块并没有定义新的作用域，因此 fp 对象仍然可用："
   ]
  },
  {
   "cell_type": "code",
   "execution_count": 3,
   "metadata": {},
   "outputs": [
    {
     "data": {
      "text/plain": [
       "<_io.TextIOWrapper name='mirror.py' mode='r' encoding='UTF-8'>"
      ]
     },
     "execution_count": 3,
     "metadata": {},
     "output_type": "execute_result"
    }
   ],
   "source": [
    "fp"
   ]
  },
  {
   "cell_type": "code",
   "execution_count": 4,
   "metadata": {},
   "outputs": [
    {
     "data": {
      "text/plain": [
       "(True, 'UTF-8')"
      ]
     },
     "execution_count": 4,
     "metadata": {},
     "output_type": "execute_result"
    }
   ],
   "source": [
    "fp.closed, fp.encoding"
   ]
  },
  {
   "cell_type": "markdown",
   "metadata": {},
   "source": [
    "但是并不能执行I/O操作，因为 with 语句块结束之后调用了`TextIOWrapper.__exit__`方法把文件关闭了"
   ]
  },
  {
   "cell_type": "code",
   "execution_count": 5,
   "metadata": {},
   "outputs": [
    {
     "ename": "ValueError",
     "evalue": "I/O operation on closed file.",
     "output_type": "error",
     "traceback": [
      "\u001b[0;31m---------------------------------------------------------------------------\u001b[0m",
      "\u001b[0;31mValueError\u001b[0m                                Traceback (most recent call last)",
      "\u001b[0;32m<ipython-input-5-132011e948ad>\u001b[0m in \u001b[0;36m<module>\u001b[0;34m\u001b[0m\n\u001b[0;32m----> 1\u001b[0;31m \u001b[0mfp\u001b[0m\u001b[0;34m.\u001b[0m\u001b[0mread\u001b[0m\u001b[0;34m(\u001b[0m\u001b[0;36m60\u001b[0m\u001b[0;34m)\u001b[0m\u001b[0;34m\u001b[0m\u001b[0;34m\u001b[0m\u001b[0m\n\u001b[0m",
      "\u001b[0;31mValueError\u001b[0m: I/O operation on closed file."
     ]
    }
   ],
   "source": [
    "fp.read(60)"
   ]
  },
  {
   "cell_type": "markdown",
   "metadata": {},
   "source": [
    "LookingGlass类实现了将标准输出转置的功能，查看细节：[LookingGlass (mirror.py)](mirror.py)。\n",
    "\n",
    "注意查看上下文管理器和`__enter__`方法返回的对象之间的差别。\n",
    "\n",
    "如果一切正常，在调用`__exit__`方法是传入的参数是`None`, `None`, `None`。"
   ]
  },
  {
   "cell_type": "code",
   "execution_count": 6,
   "metadata": {},
   "outputs": [
    {
     "name": "stdout",
     "output_type": "stream",
     "text": [
      "pordwonS dna yttiK ,ecilA\n",
      "YKCOWREBBAJ\n"
     ]
    }
   ],
   "source": [
    "from mirror import LookingGlass\n",
    "with LookingGlass() as what:\n",
    "    print('Alice, Kitty and Snowdrop')\n",
    "    print(what)"
   ]
  },
  {
   "cell_type": "code",
   "execution_count": 7,
   "metadata": {},
   "outputs": [
    {
     "data": {
      "text/plain": [
       "'JABBERWOCKY'"
      ]
     },
     "execution_count": 7,
     "metadata": {},
     "output_type": "execute_result"
    }
   ],
   "source": [
    "what"
   ]
  },
  {
   "cell_type": "markdown",
   "metadata": {},
   "source": [
    "可"
   ]
  },
  {
   "cell_type": "code",
   "execution_count": 8,
   "metadata": {},
   "outputs": [
    {
     "name": "stdout",
     "output_type": "stream",
     "text": [
      "Back to normal\n"
     ]
    }
   ],
   "source": [
    "print('Back to normal')"
   ]
  },
  {
   "cell_type": "markdown",
   "metadata": {},
   "source": [
    "传给`__exit__`方法的三个参数如下：\n",
    "- exc_type\n",
    "  - 异常类。如ZeroDivisionError。\n",
    "- exc_value\n",
    "  - 异常实例。有时会有参数传给异常构造方法，例如错误消息，这些参数可以使用exc_value.args获取。\n",
    "- traceback\n",
    "  - traceback对象。"
   ]
  },
  {
   "cell_type": "markdown",
   "metadata": {},
   "source": [
    "也可以在 with 块之外的地方使用 LookingGlass 类"
   ]
  },
  {
   "cell_type": "code",
   "execution_count": 9,
   "metadata": {},
   "outputs": [],
   "source": [
    "from mirror import LookingGlass\n",
    "manager = LookingGlass()"
   ]
  },
  {
   "cell_type": "code",
   "execution_count": 10,
   "metadata": {},
   "outputs": [
    {
     "data": {
      "text/plain": [
       "<mirror.LookingGlass at 0x7f757867d6d8>"
      ]
     },
     "execution_count": 10,
     "metadata": {},
     "output_type": "execute_result"
    }
   ],
   "source": [
    "manager"
   ]
  },
  {
   "cell_type": "code",
   "execution_count": 11,
   "metadata": {},
   "outputs": [],
   "source": [
    "monster = manager.__enter__()"
   ]
  },
  {
   "cell_type": "markdown",
   "metadata": {},
   "source": [
    "因为 jupyter notebook 的输出由其 kernel 管理，以下均采用 print 输出。"
   ]
  },
  {
   "cell_type": "code",
   "execution_count": 12,
   "metadata": {},
   "outputs": [
    {
     "name": "stdout",
     "output_type": "stream",
     "text": [
      "eurT\n"
     ]
    }
   ],
   "source": [
    "print(monster == 'JABBERWOCKY')"
   ]
  },
  {
   "cell_type": "code",
   "execution_count": 13,
   "metadata": {},
   "outputs": [
    {
     "name": "stdout",
     "output_type": "stream",
     "text": [
      "YKCOWREBBAJ\n"
     ]
    }
   ],
   "source": [
    "print(monster)"
   ]
  },
  {
   "cell_type": "code",
   "execution_count": 14,
   "metadata": {},
   "outputs": [
    {
     "name": "stdout",
     "output_type": "stream",
     "text": [
      ">8d6d768757f7x0 ta tcejbo ssalGgnikooL.rorrim<\n"
     ]
    }
   ],
   "source": [
    "print(manager)"
   ]
  },
  {
   "cell_type": "code",
   "execution_count": 15,
   "metadata": {},
   "outputs": [],
   "source": [
    "manager.__exit__(None, None, None)"
   ]
  },
  {
   "cell_type": "code",
   "execution_count": 16,
   "metadata": {},
   "outputs": [
    {
     "name": "stdout",
     "output_type": "stream",
     "text": [
      "JABBERWOCKY\n"
     ]
    }
   ],
   "source": [
    "print(monster)"
   ]
  },
  {
   "cell_type": "markdown",
   "metadata": {},
   "source": [
    "# contextlib模块"
   ]
  },
  {
   "cell_type": "markdown",
   "metadata": {},
   "source": [
    "标准库文档：[contextlib — Utilities for with-statement contexts](https://docs.python.org/3/library/contextlib.html)"
   ]
  },
  {
   "cell_type": "markdown",
   "metadata": {},
   "source": [
    "### 使用@contextmanager"
   ]
  },
  {
   "cell_type": "markdown",
   "metadata": {},
   "source": [
    "定义函数时使用 yield 语句将定义体分成两部分：yield 语句前面的代码在 with 块开始时执行，后面的代码在结束时执行。\n",
    "\n",
    "查看 [looking_glass](mirror.py) 函数。"
   ]
  },
  {
   "cell_type": "code",
   "execution_count": 17,
   "metadata": {},
   "outputs": [
    {
     "name": "stdout",
     "output_type": "stream",
     "text": [
      "pordwonS dna yttiK ,ecilA\n",
      "YKCOWREBBAJ\n"
     ]
    }
   ],
   "source": [
    "from mirror import looking_glass\n",
    "with looking_glass() as what:\n",
    "    print('Alice, Kitty and Snowdrop')\n",
    "    print(what)"
   ]
  },
  {
   "cell_type": "code",
   "execution_count": 18,
   "metadata": {},
   "outputs": [
    {
     "data": {
      "text/plain": [
       "'JABBERWOCKY'"
      ]
     },
     "execution_count": 18,
     "metadata": {},
     "output_type": "execute_result"
    }
   ],
   "source": [
    "what"
   ]
  },
  {
   "cell_type": "markdown",
   "metadata": {},
   "source": [
    "上文`looking_glass()`的实现有一个致命错误：如果在`with`块中抛出了异常，Python解释器会将其捕获，然后在`looking_glass`函数中的`yield`表达式中里再次抛出，但是那里没有进行错误处理，因此函数会中止，用于无法恢复原来的`sys.stdout.write`方法，导致系统处于无效状态。"
   ]
  },
  {
   "cell_type": "markdown",
   "metadata": {},
   "source": [
    "一个更好的实现：[looking_glass2](mirror.py)"
   ]
  },
  {
   "cell_type": "code",
   "execution_count": 19,
   "metadata": {},
   "outputs": [
    {
     "name": "stdout",
     "output_type": "stream",
     "text": [
      "pordwonS dna yttiK ,ecilA\n",
      "YKCOWREBBAJ\n"
     ]
    }
   ],
   "source": [
    "from mirror import looking_glass2\n",
    "with looking_glass2() as what:\n",
    "    print('Alice, Kitty and Snowdrop')\n",
    "    print(what)"
   ]
  },
  {
   "cell_type": "markdown",
   "metadata": {},
   "source": [
    "在上述的实现中，被装饰的函数会显式地抛出异常。"
   ]
  }
 ],
 "metadata": {
  "kernelspec": {
   "display_name": "Python 3",
   "language": "python",
   "name": "python3"
  },
  "language_info": {
   "codemirror_mode": {
    "name": "ipython",
    "version": 3
   },
   "file_extension": ".py",
   "mimetype": "text/x-python",
   "name": "python",
   "nbconvert_exporter": "python",
   "pygments_lexer": "ipython3",
   "version": "3.7.3"
  }
 },
 "nbformat": 4,
 "nbformat_minor": 2
}
