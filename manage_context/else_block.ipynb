{
 "cells": [
  {
   "cell_type": "markdown",
   "metadata": {},
   "source": [
    "# if 语句之外的 else 块"
   ]
  },
  {
   "cell_type": "markdown",
   "metadata": {},
   "source": [
    "事实上，else 语句不仅能和 if 搭配，也能与 for、while 和 try 搭配使用。\n",
    "\n",
    "- `for`\n",
    "  - 当 for 循环运行完毕时（未被 break）才运行 else 块\n",
    "- `while`\n",
    "  - 当 while 循环因为假值退出时（没有被 break）才运行 else 块\n",
    "- `try`\n",
    "  - 当 try 块中没有异常抛出的时候才运行 else 块\n",
    "\n",
    "在所有的情况下，如果抛出异常或者因 return、break 或 continue 语句导致控制权跳到了复合语句的主块之外，else 子句也会被跳过。"
   ]
  },
  {
   "cell_type": "markdown",
   "metadata": {},
   "source": [
    "## 一些易于阅读的使用 else 块的例子："
   ]
  },
  {
   "cell_type": "code",
   "execution_count": 1,
   "metadata": {},
   "outputs": [],
   "source": [
    "list1 = ['apple', 'banana', 'cherry']\n",
    "list2 = ['apple', 'banana']"
   ]
  },
  {
   "cell_type": "markdown",
   "metadata": {},
   "source": [
    "更改 my_list 来查看异常捕获，使用 flag 来控制的实现如下："
   ]
  },
  {
   "cell_type": "code",
   "execution_count": 2,
   "metadata": {},
   "outputs": [],
   "source": [
    "my_list = list1\n",
    "\n",
    "flag = True\n",
    "for item in my_list:\n",
    "    if item == 'cherry':\n",
    "        flag = False\n",
    "if flag:\n",
    "    raise ValueError('No cherry found!')"
   ]
  },
  {
   "cell_type": "markdown",
   "metadata": {},
   "source": [
    "而使用 else 块这种方式则不需要额外设置 flag 或 if 语句"
   ]
  },
  {
   "cell_type": "code",
   "execution_count": 3,
   "metadata": {},
   "outputs": [],
   "source": [
    "for item in my_list:\n",
    "    if item == 'cherry':\n",
    "        break\n",
    "else:\n",
    "    raise ValueError('No cherry found!')"
   ]
  },
  {
   "cell_type": "markdown",
   "metadata": {},
   "source": [
    "在 try/except 块中也可以使用 else 块："
   ]
  },
  {
   "cell_type": "markdown",
   "metadata": {},
   "source": [
    "一种常见的异常处理方法为：\n",
    "```python\n",
    "try:\n",
    "    dangerous_call()\n",
    "    after_call()\n",
    "except OSError:\n",
    "    log('OSError ...')\n",
    "```"
   ]
  },
  {
   "cell_type": "markdown",
   "metadata": {},
   "source": [
    "然而，为了清晰和明确，try 块中应该只抛出预期异常的语句，因此如下实现更好：\n",
    "```python\n",
    "try:\n",
    "    dangerous_call()\n",
    "except OSError:\n",
    "    log('OSError ...')\n",
    "else:\n",
    "    after_call()\n",
    "```"
   ]
  },
  {
   "cell_type": "markdown",
   "metadata": {},
   "source": [
    "### Python官方词汇表中定义了一些相关的口号："
   ]
  },
  {
   "cell_type": "markdown",
   "metadata": {},
   "source": [
    "- **EAFP (easier to ask for forgiveness than permission)**\n",
    "\n",
    "这是常见的Python编程风格，先假定存在，再捕获异常，特点是代码中存在大量的 try/except，其对立面是LBYL\n",
    "\n",
    "- **LBYL (look before you leap)**\n",
    "\n",
    "代码中有很多if语句，来在调用函数或者查找键值之前显式测试条件。多线程环境中，LBYL可能引入大量的条件竞争，可以用加锁来解决。"
   ]
  }
 ],
 "metadata": {
  "kernelspec": {
   "display_name": "Python 3",
   "language": "python",
   "name": "python3"
  },
  "language_info": {
   "codemirror_mode": {
    "name": "ipython",
    "version": 3
   },
   "file_extension": ".py",
   "mimetype": "text/x-python",
   "name": "python",
   "nbconvert_exporter": "python",
   "pygments_lexer": "ipython3",
   "version": "3.7.3"
  }
 },
 "nbformat": 4,
 "nbformat_minor": 2
}
